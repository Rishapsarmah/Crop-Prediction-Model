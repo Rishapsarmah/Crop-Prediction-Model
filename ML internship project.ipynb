{
 "cells": [
  {
   "cell_type": "markdown",
   "id": "b751a145",
   "metadata": {},
   "source": [
    "#                                   CROP RECOMMENDATION SYSTEM"
   ]
  },
  {
   "cell_type": "raw",
   "id": "ca853144",
   "metadata": {},
   "source": [
    "\n",
    "                                                                                                                    \n",
    "                      *GROUP MEMBERS:*                                                               \n",
    "                      1)Chirantan Bhuyan                                                                                  \n",
    "                      2)Dhritimoy Majumdar                                                                                \n",
    "                      3)Jivan Jyoti Bhattacharja                                                                          \n",
    "                      4)Rishap Sarmah                                                                                     \n",
    "                      5)Nishant Deka                                                                                      \n",
    "                                                                                                                 \n",
    "\n"
   ]
  },
  {
   "cell_type": "markdown",
   "id": "a967cb50",
   "metadata": {},
   "source": [
    "# Import all required library"
   ]
  },
  {
   "cell_type": "code",
   "execution_count": 1,
   "id": "8dce0671",
   "metadata": {},
   "outputs": [],
   "source": [
    "import pandas as pd\n",
    "import numpy as np\n",
    "import seaborn as sns\n",
    "import matplotlib.pyplot as plt\n",
    "%matplotlib inline"
   ]
  },
  {
   "cell_type": "markdown",
   "id": "2ac0e0c4",
   "metadata": {},
   "source": [
    "# Data analysis "
   ]
  },
  {
   "cell_type": "code",
   "execution_count": 2,
   "id": "5f596bbc",
   "metadata": {},
   "outputs": [
    {
     "data": {
      "text/html": [
       "<div>\n",
       "<style scoped>\n",
       "    .dataframe tbody tr th:only-of-type {\n",
       "        vertical-align: middle;\n",
       "    }\n",
       "\n",
       "    .dataframe tbody tr th {\n",
       "        vertical-align: top;\n",
       "    }\n",
       "\n",
       "    .dataframe thead th {\n",
       "        text-align: right;\n",
       "    }\n",
       "</style>\n",
       "<table border=\"1\" class=\"dataframe\">\n",
       "  <thead>\n",
       "    <tr style=\"text-align: right;\">\n",
       "      <th></th>\n",
       "      <th>temperature</th>\n",
       "      <th>humidity</th>\n",
       "      <th>ph</th>\n",
       "      <th>rainfall</th>\n",
       "      <th>label</th>\n",
       "    </tr>\n",
       "  </thead>\n",
       "  <tbody>\n",
       "    <tr>\n",
       "      <th>0</th>\n",
       "      <td>20.879744</td>\n",
       "      <td>82.002744</td>\n",
       "      <td>6.502985</td>\n",
       "      <td>202.935536</td>\n",
       "      <td>rice</td>\n",
       "    </tr>\n",
       "    <tr>\n",
       "      <th>1</th>\n",
       "      <td>21.770462</td>\n",
       "      <td>80.319644</td>\n",
       "      <td>7.038096</td>\n",
       "      <td>226.655537</td>\n",
       "      <td>rice</td>\n",
       "    </tr>\n",
       "    <tr>\n",
       "      <th>2</th>\n",
       "      <td>23.004459</td>\n",
       "      <td>82.320763</td>\n",
       "      <td>7.840207</td>\n",
       "      <td>263.964248</td>\n",
       "      <td>rice</td>\n",
       "    </tr>\n",
       "    <tr>\n",
       "      <th>3</th>\n",
       "      <td>26.491096</td>\n",
       "      <td>80.158363</td>\n",
       "      <td>6.980401</td>\n",
       "      <td>242.864034</td>\n",
       "      <td>rice</td>\n",
       "    </tr>\n",
       "    <tr>\n",
       "      <th>4</th>\n",
       "      <td>20.130175</td>\n",
       "      <td>81.604873</td>\n",
       "      <td>7.628473</td>\n",
       "      <td>262.717340</td>\n",
       "      <td>rice</td>\n",
       "    </tr>\n",
       "    <tr>\n",
       "      <th>...</th>\n",
       "      <td>...</td>\n",
       "      <td>...</td>\n",
       "      <td>...</td>\n",
       "      <td>...</td>\n",
       "      <td>...</td>\n",
       "    </tr>\n",
       "    <tr>\n",
       "      <th>2475</th>\n",
       "      <td>25.864755</td>\n",
       "      <td>86.674680</td>\n",
       "      <td>6.662245</td>\n",
       "      <td>41.165548</td>\n",
       "      <td>watermelon</td>\n",
       "    </tr>\n",
       "    <tr>\n",
       "      <th>2476</th>\n",
       "      <td>26.706078</td>\n",
       "      <td>81.141495</td>\n",
       "      <td>6.944640</td>\n",
       "      <td>51.510336</td>\n",
       "      <td>watermelon</td>\n",
       "    </tr>\n",
       "    <tr>\n",
       "      <th>2477</th>\n",
       "      <td>26.440195</td>\n",
       "      <td>80.919343</td>\n",
       "      <td>6.507111</td>\n",
       "      <td>47.818476</td>\n",
       "      <td>watermelon</td>\n",
       "    </tr>\n",
       "    <tr>\n",
       "      <th>2478</th>\n",
       "      <td>26.283443</td>\n",
       "      <td>84.424789</td>\n",
       "      <td>6.520663</td>\n",
       "      <td>50.786697</td>\n",
       "      <td>watermelon</td>\n",
       "    </tr>\n",
       "    <tr>\n",
       "      <th>2479</th>\n",
       "      <td>26.843661</td>\n",
       "      <td>83.850400</td>\n",
       "      <td>6.106501</td>\n",
       "      <td>40.228644</td>\n",
       "      <td>watermelon</td>\n",
       "    </tr>\n",
       "  </tbody>\n",
       "</table>\n",
       "<p>2480 rows × 5 columns</p>\n",
       "</div>"
      ],
      "text/plain": [
       "      temperature   humidity        ph    rainfall       label\n",
       "0       20.879744  82.002744  6.502985  202.935536        rice\n",
       "1       21.770462  80.319644  7.038096  226.655537        rice\n",
       "2       23.004459  82.320763  7.840207  263.964248        rice\n",
       "3       26.491096  80.158363  6.980401  242.864034        rice\n",
       "4       20.130175  81.604873  7.628473  262.717340        rice\n",
       "...           ...        ...       ...         ...         ...\n",
       "2475    25.864755  86.674680  6.662245   41.165548  watermelon\n",
       "2476    26.706078  81.141495  6.944640   51.510336  watermelon\n",
       "2477    26.440195  80.919343  6.507111   47.818476  watermelon\n",
       "2478    26.283443  84.424789  6.520663   50.786697  watermelon\n",
       "2479    26.843661  83.850400  6.106501   40.228644  watermelon\n",
       "\n",
       "[2480 rows x 5 columns]"
      ]
     },
     "execution_count": 2,
     "metadata": {},
     "output_type": "execute_result"
    }
   ],
   "source": [
    "# Read the excel file\n",
    "df = pd.read_csv('crop_data_train.csv')\n",
    "df"
   ]
  },
  {
   "cell_type": "code",
   "execution_count": 3,
   "id": "f1e21bee",
   "metadata": {},
   "outputs": [
    {
     "data": {
      "text/html": [
       "<div>\n",
       "<style scoped>\n",
       "    .dataframe tbody tr th:only-of-type {\n",
       "        vertical-align: middle;\n",
       "    }\n",
       "\n",
       "    .dataframe tbody tr th {\n",
       "        vertical-align: top;\n",
       "    }\n",
       "\n",
       "    .dataframe thead th {\n",
       "        text-align: right;\n",
       "    }\n",
       "</style>\n",
       "<table border=\"1\" class=\"dataframe\">\n",
       "  <thead>\n",
       "    <tr style=\"text-align: right;\">\n",
       "      <th></th>\n",
       "      <th>temperature</th>\n",
       "      <th>humidity</th>\n",
       "      <th>ph</th>\n",
       "      <th>rainfall</th>\n",
       "      <th>label</th>\n",
       "    </tr>\n",
       "  </thead>\n",
       "  <tbody>\n",
       "    <tr>\n",
       "      <th>0</th>\n",
       "      <td>False</td>\n",
       "      <td>False</td>\n",
       "      <td>False</td>\n",
       "      <td>False</td>\n",
       "      <td>False</td>\n",
       "    </tr>\n",
       "    <tr>\n",
       "      <th>1</th>\n",
       "      <td>False</td>\n",
       "      <td>False</td>\n",
       "      <td>False</td>\n",
       "      <td>False</td>\n",
       "      <td>False</td>\n",
       "    </tr>\n",
       "    <tr>\n",
       "      <th>2</th>\n",
       "      <td>False</td>\n",
       "      <td>False</td>\n",
       "      <td>False</td>\n",
       "      <td>False</td>\n",
       "      <td>False</td>\n",
       "    </tr>\n",
       "    <tr>\n",
       "      <th>3</th>\n",
       "      <td>False</td>\n",
       "      <td>False</td>\n",
       "      <td>False</td>\n",
       "      <td>False</td>\n",
       "      <td>False</td>\n",
       "    </tr>\n",
       "    <tr>\n",
       "      <th>4</th>\n",
       "      <td>False</td>\n",
       "      <td>False</td>\n",
       "      <td>False</td>\n",
       "      <td>False</td>\n",
       "      <td>False</td>\n",
       "    </tr>\n",
       "    <tr>\n",
       "      <th>...</th>\n",
       "      <td>...</td>\n",
       "      <td>...</td>\n",
       "      <td>...</td>\n",
       "      <td>...</td>\n",
       "      <td>...</td>\n",
       "    </tr>\n",
       "    <tr>\n",
       "      <th>2475</th>\n",
       "      <td>False</td>\n",
       "      <td>False</td>\n",
       "      <td>False</td>\n",
       "      <td>False</td>\n",
       "      <td>False</td>\n",
       "    </tr>\n",
       "    <tr>\n",
       "      <th>2476</th>\n",
       "      <td>False</td>\n",
       "      <td>False</td>\n",
       "      <td>False</td>\n",
       "      <td>False</td>\n",
       "      <td>False</td>\n",
       "    </tr>\n",
       "    <tr>\n",
       "      <th>2477</th>\n",
       "      <td>False</td>\n",
       "      <td>False</td>\n",
       "      <td>False</td>\n",
       "      <td>False</td>\n",
       "      <td>False</td>\n",
       "    </tr>\n",
       "    <tr>\n",
       "      <th>2478</th>\n",
       "      <td>False</td>\n",
       "      <td>False</td>\n",
       "      <td>False</td>\n",
       "      <td>False</td>\n",
       "      <td>False</td>\n",
       "    </tr>\n",
       "    <tr>\n",
       "      <th>2479</th>\n",
       "      <td>False</td>\n",
       "      <td>False</td>\n",
       "      <td>False</td>\n",
       "      <td>False</td>\n",
       "      <td>False</td>\n",
       "    </tr>\n",
       "  </tbody>\n",
       "</table>\n",
       "<p>2480 rows × 5 columns</p>\n",
       "</div>"
      ],
      "text/plain": [
       "      temperature  humidity     ph  rainfall  label\n",
       "0           False     False  False     False  False\n",
       "1           False     False  False     False  False\n",
       "2           False     False  False     False  False\n",
       "3           False     False  False     False  False\n",
       "4           False     False  False     False  False\n",
       "...           ...       ...    ...       ...    ...\n",
       "2475        False     False  False     False  False\n",
       "2476        False     False  False     False  False\n",
       "2477        False     False  False     False  False\n",
       "2478        False     False  False     False  False\n",
       "2479        False     False  False     False  False\n",
       "\n",
       "[2480 rows x 5 columns]"
      ]
     },
     "execution_count": 3,
     "metadata": {},
     "output_type": "execute_result"
    }
   ],
   "source": [
    "df.isnull()"
   ]
  },
  {
   "cell_type": "code",
   "execution_count": 4,
   "id": "3ffc8ae6",
   "metadata": {},
   "outputs": [
    {
     "data": {
      "text/plain": [
       "temperature    0\n",
       "humidity       0\n",
       "ph             0\n",
       "rainfall       0\n",
       "label          0\n",
       "dtype: int64"
      ]
     },
     "execution_count": 4,
     "metadata": {},
     "output_type": "execute_result"
    }
   ],
   "source": [
    "df.isnull().sum()"
   ]
  },
  {
   "cell_type": "code",
   "execution_count": 5,
   "id": "ec53ca84",
   "metadata": {},
   "outputs": [
    {
     "data": {
      "text/plain": [
       "temperature    2400\n",
       "humidity       2480\n",
       "ph             2480\n",
       "rainfall       2480\n",
       "label            31\n",
       "dtype: int64"
      ]
     },
     "execution_count": 5,
     "metadata": {},
     "output_type": "execute_result"
    }
   ],
   "source": [
    "df.nunique(axis=0)"
   ]
  },
  {
   "cell_type": "code",
   "execution_count": 6,
   "id": "ec9fc489",
   "metadata": {},
   "outputs": [
    {
     "name": "stdout",
     "output_type": "stream",
     "text": [
      "<class 'pandas.core.frame.DataFrame'>\n",
      "RangeIndex: 2480 entries, 0 to 2479\n",
      "Data columns (total 5 columns):\n",
      " #   Column       Non-Null Count  Dtype  \n",
      "---  ------       --------------  -----  \n",
      " 0   temperature  2480 non-null   float64\n",
      " 1   humidity     2480 non-null   float64\n",
      " 2   ph           2480 non-null   float64\n",
      " 3   rainfall     2480 non-null   float64\n",
      " 4   label        2480 non-null   object \n",
      "dtypes: float64(4), object(1)\n",
      "memory usage: 97.0+ KB\n"
     ]
    }
   ],
   "source": [
    "df.info()"
   ]
  },
  {
   "cell_type": "code",
   "execution_count": 7,
   "id": "5c1d7824",
   "metadata": {},
   "outputs": [
    {
     "data": {
      "text/html": [
       "<div>\n",
       "<style scoped>\n",
       "    .dataframe tbody tr th:only-of-type {\n",
       "        vertical-align: middle;\n",
       "    }\n",
       "\n",
       "    .dataframe tbody tr th {\n",
       "        vertical-align: top;\n",
       "    }\n",
       "\n",
       "    .dataframe thead th {\n",
       "        text-align: right;\n",
       "    }\n",
       "</style>\n",
       "<table border=\"1\" class=\"dataframe\">\n",
       "  <thead>\n",
       "    <tr style=\"text-align: right;\">\n",
       "      <th></th>\n",
       "      <th>temperature</th>\n",
       "      <th>humidity</th>\n",
       "      <th>ph</th>\n",
       "      <th>rainfall</th>\n",
       "      <th>label</th>\n",
       "    </tr>\n",
       "  </thead>\n",
       "  <tbody>\n",
       "  </tbody>\n",
       "</table>\n",
       "</div>"
      ],
      "text/plain": [
       "Empty DataFrame\n",
       "Columns: [temperature, humidity, ph, rainfall, label]\n",
       "Index: []"
      ]
     },
     "execution_count": 7,
     "metadata": {},
     "output_type": "execute_result"
    }
   ],
   "source": [
    "df[(df['rainfall'] < 0) | (df['ph']<0)| (df['ph']>14)]"
   ]
  },
  {
   "cell_type": "code",
   "execution_count": 8,
   "id": "b41270fc",
   "metadata": {},
   "outputs": [
    {
     "data": {
      "text/plain": [
       "0       False\n",
       "1       False\n",
       "2       False\n",
       "3       False\n",
       "4       False\n",
       "        ...  \n",
       "2475    False\n",
       "2476    False\n",
       "2477    False\n",
       "2478    False\n",
       "2479    False\n",
       "Length: 2480, dtype: bool"
      ]
     },
     "execution_count": 8,
     "metadata": {},
     "output_type": "execute_result"
    }
   ],
   "source": [
    "df.duplicated()"
   ]
  },
  {
   "cell_type": "code",
   "execution_count": 9,
   "id": "d6d22d5b",
   "metadata": {},
   "outputs": [
    {
     "data": {
      "text/plain": [
       "array(['rice', 'wheat', 'Mung Bean', 'Tea', 'millet', 'maize', 'Lentil',\n",
       "       'Jute', 'Coffee', 'Cotton', 'Ground Nut', 'Peas', 'Rubber',\n",
       "       'Sugarcane', 'Tobacco', 'Kidney Beans', 'Moth Beans', 'Coconut',\n",
       "       'Black gram', 'Adzuki Beans', 'Pigeon Peas', 'Chickpea', 'banana',\n",
       "       'grapes', 'apple', 'mango', 'muskmelon', 'orange', 'papaya',\n",
       "       'pomegranate', 'watermelon'], dtype=object)"
      ]
     },
     "execution_count": 9,
     "metadata": {},
     "output_type": "execute_result"
    }
   ],
   "source": [
    "df.label.unique()"
   ]
  },
  {
   "cell_type": "code",
   "execution_count": 10,
   "id": "d2598701",
   "metadata": {},
   "outputs": [
    {
     "name": "stdout",
     "output_type": "stream",
     "text": [
      "['Adzuki Beans', 'Black gram', 'Chickpea', 'Coconut', 'Coffee', 'Cotton', 'Ground Nut', 'Jute', 'Kidney Beans', 'Lentil', 'Moth Beans', 'Mung Bean', 'Peas', 'Pigeon Peas', 'Rubber', 'Sugarcane', 'Tea', 'Tobacco', 'apple', 'banana', 'grapes', 'maize', 'mango', 'millet', 'muskmelon', 'orange', 'papaya', 'pomegranate', 'rice', 'watermelon', 'wheat']\n"
     ]
    }
   ],
   "source": [
    "x=df.label.unique()\n",
    "print(sorted(x))"
   ]
  },
  {
   "cell_type": "code",
   "execution_count": 11,
   "id": "080d4bd2",
   "metadata": {},
   "outputs": [
    {
     "data": {
      "text/plain": [
       "rice            80\n",
       "Moth Beans      80\n",
       "pomegranate     80\n",
       "papaya          80\n",
       "orange          80\n",
       "muskmelon       80\n",
       "mango           80\n",
       "apple           80\n",
       "grapes          80\n",
       "banana          80\n",
       "Chickpea        80\n",
       "Pigeon Peas     80\n",
       "Adzuki Beans    80\n",
       "Black gram      80\n",
       "Coconut         80\n",
       "Kidney Beans    80\n",
       "wheat           80\n",
       "Tobacco         80\n",
       "Sugarcane       80\n",
       "Rubber          80\n",
       "Peas            80\n",
       "Ground Nut      80\n",
       "Cotton          80\n",
       "Coffee          80\n",
       "Jute            80\n",
       "Lentil          80\n",
       "maize           80\n",
       "millet          80\n",
       "Tea             80\n",
       "Mung Bean       80\n",
       "watermelon      80\n",
       "Name: label, dtype: int64"
      ]
     },
     "execution_count": 11,
     "metadata": {},
     "output_type": "execute_result"
    }
   ],
   "source": [
    "df['label'].value_counts()"
   ]
  },
  {
   "cell_type": "code",
   "execution_count": 12,
   "id": "601a0bb1",
   "metadata": {},
   "outputs": [
    {
     "data": {
      "image/png": "[encoded data removed]",
      "text/plain": [
       "<Figure size 432x288 with 1 Axes>"
      ]
     },
     "metadata": {
      "needs_background": "light"
     },
     "output_type": "display_data"
    }
   ],
   "source": [
    "df[\"label\"].value_counts().plot(kind=\"bar\")\n",
    "plt.show()"
   ]
  },
  {
   "cell_type": "code",
   "execution_count": 13,
   "id": "04460abf",
   "metadata": {},
   "outputs": [
    {
     "data": {
      "text/html": [
       "<div>\n",
       "<style scoped>\n",
       "    .dataframe tbody tr th:only-of-type {\n",
       "        vertical-align: middle;\n",
       "    }\n",
       "\n",
       "    .dataframe tbody tr th {\n",
       "        vertical-align: top;\n",
       "    }\n",
       "\n",
       "    .dataframe thead th {\n",
       "        text-align: right;\n",
       "    }\n",
       "</style>\n",
       "<table border=\"1\" class=\"dataframe\">\n",
       "  <thead>\n",
       "    <tr style=\"text-align: right;\">\n",
       "      <th></th>\n",
       "      <th>temperature</th>\n",
       "      <th>humidity</th>\n",
       "      <th>ph</th>\n",
       "      <th>rainfall</th>\n",
       "    </tr>\n",
       "  </thead>\n",
       "  <tbody>\n",
       "    <tr>\n",
       "      <th>count</th>\n",
       "      <td>2480.000000</td>\n",
       "      <td>2480.000000</td>\n",
       "      <td>2480.000000</td>\n",
       "      <td>2480.000000</td>\n",
       "    </tr>\n",
       "    <tr>\n",
       "      <th>mean</th>\n",
       "      <td>27.106207</td>\n",
       "      <td>65.977510</td>\n",
       "      <td>6.360440</td>\n",
       "      <td>110.148731</td>\n",
       "    </tr>\n",
       "    <tr>\n",
       "      <th>std</th>\n",
       "      <td>7.539481</td>\n",
       "      <td>24.026417</td>\n",
       "      <td>0.804480</td>\n",
       "      <td>64.065740</td>\n",
       "    </tr>\n",
       "    <tr>\n",
       "      <th>min</th>\n",
       "      <td>8.825675</td>\n",
       "      <td>10.086890</td>\n",
       "      <td>3.504752</td>\n",
       "      <td>20.211267</td>\n",
       "    </tr>\n",
       "    <tr>\n",
       "      <th>25%</th>\n",
       "      <td>22.810495</td>\n",
       "      <td>55.186269</td>\n",
       "      <td>5.893393</td>\n",
       "      <td>65.021328</td>\n",
       "    </tr>\n",
       "    <tr>\n",
       "      <th>50%</th>\n",
       "      <td>26.027370</td>\n",
       "      <td>68.931169</td>\n",
       "      <td>6.325531</td>\n",
       "      <td>97.356366</td>\n",
       "    </tr>\n",
       "    <tr>\n",
       "      <th>75%</th>\n",
       "      <td>29.368447</td>\n",
       "      <td>84.473914</td>\n",
       "      <td>6.831795</td>\n",
       "      <td>139.984998</td>\n",
       "    </tr>\n",
       "    <tr>\n",
       "      <th>max</th>\n",
       "      <td>54.986760</td>\n",
       "      <td>99.969060</td>\n",
       "      <td>9.926212</td>\n",
       "      <td>397.315380</td>\n",
       "    </tr>\n",
       "  </tbody>\n",
       "</table>\n",
       "</div>"
      ],
      "text/plain": [
       "       temperature     humidity           ph     rainfall\n",
       "count  2480.000000  2480.000000  2480.000000  2480.000000\n",
       "mean     27.106207    65.977510     6.360440   110.148731\n",
       "std       7.539481    24.026417     0.804480    64.065740\n",
       "min       8.825675    10.086890     3.504752    20.211267\n",
       "25%      22.810495    55.186269     5.893393    65.021328\n",
       "50%      26.027370    68.931169     6.325531    97.356366\n",
       "75%      29.368447    84.473914     6.831795   139.984998\n",
       "max      54.986760    99.969060     9.926212   397.315380"
      ]
     },
     "execution_count": 13,
     "metadata": {},
     "output_type": "execute_result"
    }
   ],
   "source": [
    "df.describe()"
   ]
  },
  {
   "cell_type": "code",
   "execution_count": 14,
   "id": "3bcf781d",
   "metadata": {},
   "outputs": [
    {
     "data": {
      "image/png": "[encoded data removed]",
      "text/plain": [
       "<Figure size 792x648 with 2 Axes>"
      ]
     },
     "metadata": {
      "needs_background": "light"
     },
     "output_type": "display_data"
    }
   ],
   "source": [
    "plt.figure(figsize = (11,9))\n",
    "sns.heatmap(df.corr(), center = 0, annot = True)\n",
    "plt.show()"
   ]
  },
  {
   "cell_type": "code",
   "execution_count": 15,
   "id": "02a11c16",
   "metadata": {},
   "outputs": [
    {
     "name": "stderr",
     "output_type": "stream",
     "text": [
      "c:\\users\\abhuy\\appdata\\local\\programs\\python\\python39\\lib\\site-packages\\seaborn\\distributions.py:2557: FutureWarning: `distplot` is a deprecated function and will be removed in a future version. Please adapt your code to use either `displot` (a figure-level function with similar flexibility) or `histplot` (an axes-level function for histograms).\n",
      "  warnings.warn(msg, FutureWarning)\n"
     ]
    },
    {
     "data": {
      "text/plain": [
       "<AxesSubplot:xlabel='temperature', ylabel='Density'>"
      ]
     },
     "execution_count": 15,
     "metadata": {},
     "output_type": "execute_result"
    },
    {
     "data": {
      "image/png": "[encoded data removed]",
      "text/plain": [
       "<Figure size 432x288 with 1 Axes>"
      ]
     },
     "metadata": {
      "needs_background": "light"
     },
     "output_type": "display_data"
    }
   ],
   "source": [
    "sns.distplot(df['temperature'] , color ='green')"
   ]
  },
  {
   "cell_type": "code",
   "execution_count": 16,
   "id": "2df9d37d",
   "metadata": {},
   "outputs": [
    {
     "name": "stderr",
     "output_type": "stream",
     "text": [
      "c:\\users\\abhuy\\appdata\\local\\programs\\python\\python39\\lib\\site-packages\\seaborn\\distributions.py:2557: FutureWarning: `distplot` is a deprecated function and will be removed in a future version. Please adapt your code to use either `displot` (a figure-level function with similar flexibility) or `histplot` (an axes-level function for histograms).\n",
      "  warnings.warn(msg, FutureWarning)\n"
     ]
    },
    {
     "data": {
      "text/plain": [
       "<AxesSubplot:xlabel='humidity', ylabel='Density'>"
      ]
     },
     "execution_count": 16,
     "metadata": {},
     "output_type": "execute_result"
    },
    {
     "data": {
      "image/png": "[encoded data removed]",
      "text/plain": [
       "<Figure size 432x288 with 1 Axes>"
      ]
     },
     "metadata": {
      "needs_background": "light"
     },
     "output_type": "display_data"
    }
   ],
   "source": [
    "sns.distplot(df['humidity'] , color ='red')"
   ]
  },
  {
   "cell_type": "code",
   "execution_count": 17,
   "id": "a6c6a4d4",
   "metadata": {},
   "outputs": [
    {
     "name": "stderr",
     "output_type": "stream",
     "text": [
      "c:\\users\\abhuy\\appdata\\local\\programs\\python\\python39\\lib\\site-packages\\seaborn\\distributions.py:2557: FutureWarning: `distplot` is a deprecated function and will be removed in a future version. Please adapt your code to use either `displot` (a figure-level function with similar flexibility) or `histplot` (an axes-level function for histograms).\n",
      "  warnings.warn(msg, FutureWarning)\n"
     ]
    },
    {
     "data": {
      "text/plain": [
       "<AxesSubplot:xlabel='ph', ylabel='Density'>"
      ]
     },
     "execution_count": 17,
     "metadata": {},
     "output_type": "execute_result"
    },
    {
     "data": {
      "image/png": "[encoded data removed]",
      "text/plain": [
       "<Figure size 432x288 with 1 Axes>"
      ]
     },
     "metadata": {
      "needs_background": "light"
     },
     "output_type": "display_data"
    }
   ],
   "source": [
    "sns.distplot(df['ph'] , color ='pink')"
   ]
  },
  {
   "cell_type": "code",
   "execution_count": 18,
   "id": "fccba6ca",
   "metadata": {},
   "outputs": [
    {
     "name": "stderr",
     "output_type": "stream",
     "text": [
      "c:\\users\\abhuy\\appdata\\local\\programs\\python\\python39\\lib\\site-packages\\seaborn\\distributions.py:2557: FutureWarning: `distplot` is a deprecated function and will be removed in a future version. Please adapt your code to use either `displot` (a figure-level function with similar flexibility) or `histplot` (an axes-level function for histograms).\n",
      "  warnings.warn(msg, FutureWarning)\n"
     ]
    },
    {
     "data": {
      "text/plain": [
       "<AxesSubplot:xlabel='rainfall', ylabel='Density'>"
      ]
     },
     "execution_count": 18,
     "metadata": {},
     "output_type": "execute_result"
    },
    {
     "data": {
      "image/png": "[encoded data removed]",
      "text/plain": [
       "<Figure size 432x288 with 1 Axes>"
      ]
     },
     "metadata": {
      "needs_background": "light"
     },
     "output_type": "display_data"
    }
   ],
   "source": [
    "sns.distplot(df['rainfall'],color ='blue')"
   ]
  },
  {
   "cell_type": "code",
   "execution_count": 19,
   "id": "7a9cfa31",
   "metadata": {},
   "outputs": [
    {
     "data": {
      "text/html": [
       "<div>\n",
       "<style scoped>\n",
       "    .dataframe tbody tr th:only-of-type {\n",
       "        vertical-align: middle;\n",
       "    }\n",
       "\n",
       "    .dataframe tbody tr th {\n",
       "        vertical-align: top;\n",
       "    }\n",
       "\n",
       "    .dataframe thead th {\n",
       "        text-align: right;\n",
       "    }\n",
       "</style>\n",
       "<table border=\"1\" class=\"dataframe\">\n",
       "  <thead>\n",
       "    <tr style=\"text-align: right;\">\n",
       "      <th></th>\n",
       "      <th>temperature</th>\n",
       "      <th>humidity</th>\n",
       "      <th>ph</th>\n",
       "      <th>rainfall</th>\n",
       "      <th>label</th>\n",
       "    </tr>\n",
       "  </thead>\n",
       "  <tbody>\n",
       "    <tr>\n",
       "      <th>0</th>\n",
       "      <td>20.879744</td>\n",
       "      <td>82.002744</td>\n",
       "      <td>6.502985</td>\n",
       "      <td>202.935536</td>\n",
       "      <td>rice</td>\n",
       "    </tr>\n",
       "    <tr>\n",
       "      <th>1</th>\n",
       "      <td>21.770462</td>\n",
       "      <td>80.319644</td>\n",
       "      <td>7.038096</td>\n",
       "      <td>226.655537</td>\n",
       "      <td>rice</td>\n",
       "    </tr>\n",
       "    <tr>\n",
       "      <th>2</th>\n",
       "      <td>23.004459</td>\n",
       "      <td>82.320763</td>\n",
       "      <td>7.840207</td>\n",
       "      <td>263.964248</td>\n",
       "      <td>rice</td>\n",
       "    </tr>\n",
       "    <tr>\n",
       "      <th>3</th>\n",
       "      <td>26.491096</td>\n",
       "      <td>80.158363</td>\n",
       "      <td>6.980401</td>\n",
       "      <td>242.864034</td>\n",
       "      <td>rice</td>\n",
       "    </tr>\n",
       "    <tr>\n",
       "      <th>4</th>\n",
       "      <td>20.130175</td>\n",
       "      <td>81.604873</td>\n",
       "      <td>7.628473</td>\n",
       "      <td>262.717340</td>\n",
       "      <td>rice</td>\n",
       "    </tr>\n",
       "  </tbody>\n",
       "</table>\n",
       "</div>"
      ],
      "text/plain": [
       "   temperature   humidity        ph    rainfall label\n",
       "0    20.879744  82.002744  6.502985  202.935536  rice\n",
       "1    21.770462  80.319644  7.038096  226.655537  rice\n",
       "2    23.004459  82.320763  7.840207  263.964248  rice\n",
       "3    26.491096  80.158363  6.980401  242.864034  rice\n",
       "4    20.130175  81.604873  7.628473  262.717340  rice"
      ]
     },
     "execution_count": 19,
     "metadata": {},
     "output_type": "execute_result"
    }
   ],
   "source": [
    "df.head()"
   ]
  },
  {
   "cell_type": "markdown",
   "id": "62ed6fce",
   "metadata": {},
   "source": [
    "# Train Test Split"
   ]
  },
  {
   "cell_type": "code",
   "execution_count": 20,
   "id": "7fa1da74",
   "metadata": {},
   "outputs": [],
   "source": [
    "from sklearn.model_selection import train_test_split"
   ]
  },
  {
   "cell_type": "code",
   "execution_count": 21,
   "id": "90954c62",
   "metadata": {},
   "outputs": [],
   "source": [
    "X = df.drop('label',axis=1)\n",
    "y = df['label']"
   ]
  },
  {
   "cell_type": "code",
   "execution_count": 22,
   "id": "f00bcc49",
   "metadata": {},
   "outputs": [],
   "source": [
    "X_train, X_test, y_train, y_test = train_test_split(X, y, test_size=0.35, random_state=100)"
   ]
  },
  {
   "cell_type": "markdown",
   "id": "d0eae36e",
   "metadata": {},
   "source": [
    "# Train"
   ]
  },
  {
   "cell_type": "markdown",
   "id": "136de68f",
   "metadata": {},
   "source": [
    "**Decision Tree Classification**"
   ]
  },
  {
   "cell_type": "code",
   "execution_count": 23,
   "id": "0f4554db",
   "metadata": {},
   "outputs": [
    {
     "data": {
      "text/plain": [
       "DecisionTreeClassifier()"
      ]
     },
     "execution_count": 23,
     "metadata": {},
     "output_type": "execute_result"
    }
   ],
   "source": [
    "from sklearn import tree\n",
    "model = tree.DecisionTreeClassifier()\n",
    "model.fit(X_train,y_train)"
   ]
  },
  {
   "cell_type": "code",
   "execution_count": 24,
   "id": "0fc20e58",
   "metadata": {},
   "outputs": [
    {
     "data": {
      "text/plain": [
       "1.0"
      ]
     },
     "execution_count": 24,
     "metadata": {},
     "output_type": "execute_result"
    }
   ],
   "source": [
    "model.score(X_train,y_train)"
   ]
  },
  {
   "cell_type": "markdown",
   "id": "da4da0fa",
   "metadata": {},
   "source": [
    "# Performance Evaluation"
   ]
  },
  {
   "cell_type": "code",
   "execution_count": 25,
   "id": "011dc549",
   "metadata": {},
   "outputs": [
    {
     "data": {
      "text/plain": [
       "0.8870967741935484"
      ]
     },
     "execution_count": 25,
     "metadata": {},
     "output_type": "execute_result"
    }
   ],
   "source": [
    "model.score(X_test,y_test)"
   ]
  },
  {
   "cell_type": "markdown",
   "id": "7ee1256c",
   "metadata": {},
   "source": [
    "**Predicting the Test set results**"
   ]
  },
  {
   "cell_type": "code",
   "execution_count": 26,
   "id": "1fe144ba",
   "metadata": {},
   "outputs": [],
   "source": [
    "prediction=model.predict(X_test)"
   ]
  },
  {
   "cell_type": "markdown",
   "id": "f720b206",
   "metadata": {},
   "source": [
    "**Accuracy**"
   ]
  },
  {
   "cell_type": "code",
   "execution_count": 27,
   "id": "bbf2e415",
   "metadata": {},
   "outputs": [],
   "source": [
    "from sklearn.metrics import accuracy_score"
   ]
  },
  {
   "cell_type": "code",
   "execution_count": 28,
   "id": "cc394504",
   "metadata": {},
   "outputs": [
    {
     "name": "stdout",
     "output_type": "stream",
     "text": [
      "Decision Tree Classification's Accuracy : 0.8870967741935484\n"
     ]
    }
   ],
   "source": [
    "accu_score=accuracy_score(prediction,y_test)\n",
    "print(\"Decision Tree Classification's Accuracy :\",accu_score)"
   ]
  },
  {
   "cell_type": "markdown",
   "id": "f0508114",
   "metadata": {},
   "source": [
    "**Classification Report**"
   ]
  },
  {
   "cell_type": "code",
   "execution_count": 29,
   "id": "ca1412f8",
   "metadata": {},
   "outputs": [
    {
     "name": "stdout",
     "output_type": "stream",
     "text": [
      "              precision    recall  f1-score   support\n",
      "\n",
      "Adzuki Beans       1.00      1.00      1.00        32\n",
      "  Black gram       0.95      0.83      0.89        24\n",
      "    Chickpea       1.00      1.00      1.00        25\n",
      "     Coconut       1.00      0.91      0.95        23\n",
      "      Coffee       0.77      0.87      0.82        31\n",
      "      Cotton       0.96      0.86      0.91        29\n",
      "  Ground Nut       0.73      1.00      0.85        22\n",
      "        Jute       0.79      0.73      0.76        30\n",
      "Kidney Beans       1.00      1.00      1.00        25\n",
      "      Lentil       0.97      1.00      0.99        33\n",
      "  Moth Beans       0.90      0.79      0.84        24\n",
      "   Mung Bean       0.97      1.00      0.98        30\n",
      "        Peas       1.00      1.00      1.00        35\n",
      " Pigeon Peas       0.77      0.69      0.73        29\n",
      "      Rubber       0.96      1.00      0.98        23\n",
      "   Sugarcane       0.75      0.75      0.75        24\n",
      "         Tea       0.96      0.90      0.93        30\n",
      "     Tobacco       1.00      0.88      0.93        32\n",
      "       apple       0.83      0.75      0.79        32\n",
      "      banana       0.89      0.92      0.91        26\n",
      "      grapes       0.96      0.96      0.96        24\n",
      "       maize       0.77      0.88      0.82        26\n",
      "       mango       0.88      1.00      0.94        30\n",
      "      millet       1.00      1.00      1.00        37\n",
      "   muskmelon       1.00      1.00      1.00        22\n",
      "      orange       0.60      0.64      0.62        28\n",
      "      papaya       0.69      0.96      0.80        23\n",
      " pomegranate       0.79      0.63      0.70        30\n",
      "        rice       0.87      0.96      0.91        27\n",
      "  watermelon       1.00      0.97      0.98        32\n",
      "       wheat       0.79      0.63      0.70        30\n",
      "\n",
      "    accuracy                           0.89       868\n",
      "   macro avg       0.89      0.89      0.89       868\n",
      "weighted avg       0.89      0.89      0.89       868\n",
      "\n"
     ]
    }
   ],
   "source": [
    "from sklearn.metrics import classification_report\n",
    "print(classification_report(y_test, prediction))"
   ]
  },
  {
   "cell_type": "markdown",
   "id": "b1a8f3f8",
   "metadata": {},
   "source": [
    "**Cross validation score**"
   ]
  },
  {
   "cell_type": "code",
   "execution_count": 30,
   "id": "e006f129",
   "metadata": {},
   "outputs": [
    {
     "data": {
      "text/plain": [
       "array([0.91935484, 0.9233871 , 0.91935484, 0.91532258, 0.88709677,\n",
       "       0.89516129, 0.9233871 , 0.92741935, 0.89516129, 0.89919355])"
      ]
     },
     "execution_count": 30,
     "metadata": {},
     "output_type": "execute_result"
    }
   ],
   "source": [
    "from sklearn.model_selection import cross_val_score\n",
    "score=cross_val_score(model,X,y,cv=10)\n",
    "score"
   ]
  },
  {
   "cell_type": "code",
   "execution_count": 31,
   "id": "bb8229d3",
   "metadata": {},
   "outputs": [
    {
     "data": {
      "text/plain": [
       "0.9104838709677419"
      ]
     },
     "execution_count": 31,
     "metadata": {},
     "output_type": "execute_result"
    }
   ],
   "source": [
    "score.mean()"
   ]
  },
  {
   "cell_type": "markdown",
   "id": "484009cd",
   "metadata": {},
   "source": [
    "# Future Prediction"
   ]
  },
  {
   "cell_type": "code",
   "execution_count": 32,
   "id": "8846fc94",
   "metadata": {},
   "outputs": [
    {
     "name": "stdout",
     "output_type": "stream",
     "text": [
      "crop to be yield : ['rice']\n"
     ]
    }
   ],
   "source": [
    "a=model.predict([[26.52872817,80.12267476,6.158376967,218.9163567]])\n",
    "print(\"crop to be yield :\",a)"
   ]
  },
  {
   "cell_type": "code",
   "execution_count": 33,
   "id": "ae9a10be",
   "metadata": {},
   "outputs": [
    {
     "name": "stdout",
     "output_type": "stream",
     "text": [
      "crop to be yield : ['Ground Nut']\n"
     ]
    }
   ],
   "source": [
    "b=model.predict([[30.66938267,64.33053444,6.232369623,78.68708298]])\n",
    "print(\"crop to be yield :\",b)"
   ]
  },
  {
   "cell_type": "markdown",
   "id": "de8b7624",
   "metadata": {},
   "source": [
    "# GUI"
   ]
  },
  {
   "cell_type": "code",
   "execution_count": 34,
   "id": "52cc5c99",
   "metadata": {},
   "outputs": [],
   "source": [
    "from tkinter import *\n",
    "#------------------------------------------------ TKINTER LOOP STARTING -----------------------------------------\n",
    "\n",
    "root=Tk()   # Tkinter object\n",
    "\n",
    "#---------------------------------- OUTPUT BOX -----------------------------------------------------------------\n",
    "\n",
    "scvalue = StringVar()\n",
    "screen = Entry(root, textvariable=scvalue, font=\"comicsansms 25 bold\")\n",
    "screen.place(x=620, y=600)\n",
    "Label(root,text=\"Result :\",font=\"comicsansms 25 bold\",bg='#ffe6e6').place(x=490,y=600)\n",
    "\n",
    "#----------------------------------------- CALCULATE AND DISPLAY RESULT -------------------------------------------------\n",
    "\n",
    "def calculate():\n",
    "    indept_vars = [[]]\n",
    "    indept_vars[0].append(humidity_val.get())\n",
    "    indept_vars[0].append(temp_val.get())\n",
    "    indept_vars[0].append(ph_val.get())\n",
    "    indept_vars[0].append(rainfall_val.get())\n",
    "    result=model.predict(indept_vars)[0]\n",
    "    scvalue.set(result)\n",
    "    \n",
    "#------------------------------------------------SCREEN-----------------------------------------------------------------\n",
    "\n",
    "screen_width=1520\n",
    "screen_height=780\n",
    "root.title(\"Crop yield Prediction\")\n",
    "root.geometry(f\"{screen_width}x{screen_height}\")\n",
    "root.minsize(screen_width,screen_height)\n",
    "root.maxsize(screen_width,screen_height)\n",
    "root.configure(background='#ffe6e6')\n",
    "\n",
    "#--------------------------------------------------HEADING-------------------------------------------------------------\n",
    "\n",
    "topic=Label(root,text=\"CROP YIELD PREDICTION\",font=\"comicsansms 30 bold\",bg='#ffe6e6')\n",
    "topic.pack(pady=10)\n",
    "\n",
    "#-----------------------------------------------------COLUMNS----------------------------------------------------------\n",
    "\n",
    "Label(root,text=\"TEMPERATURE :\",font=\"comicsansms 25 bold\",bg='#ffe6e6').place(x=200,y=150)\n",
    "Label(root,text=\"HUMIDITY :\",font=\"comicsansms 25 bold\",bg='#ffe6e6').place(x=290,y=230)\n",
    "Label(root,text=\"PH :\",font=\"comicsansms 25 bold\",bg='#ffe6e6').place(x=405,y=310)\n",
    "Label(root,text=\"RAINFALL :\",font=\"comicsansms 25 bold\",bg='#ffe6e6').place(x=285,y=390)\n",
    "\n",
    "#---------------------------------------------------VARIABLES---------------------------------------------------------\n",
    "\n",
    "humidity_val=DoubleVar()\n",
    "temp_val=DoubleVar()\n",
    "ph_val=DoubleVar()\n",
    "rainfall_val=DoubleVar()\n",
    "\n",
    "#-----------------------------------------------------VALUE ENTRY-----------------------------------------------------\n",
    "\n",
    "humidity_entry=Entry(root,textvariable=humidity_val,font=\"comicsansms 25 bold\")\n",
    "temp_entry=Entry(root,textvariable=temp_val,font=\"comicsansms 25 bold\")\n",
    "ph_entry=Entry(root,textvariable=ph_val,font=\"comicsansms 25 bold\")\n",
    "rainfall_entry=Entry(root,textvariable=rainfall_val,font=\"comicsansms 25 bold\")\n",
    "humidity_entry.place(x=500,y=150)\n",
    "temp_entry.place(x=500,y=230)\n",
    "ph_entry.place(x=500,y=310)\n",
    "rainfall_entry.place(x=500,y=390)\n",
    "\n",
    "#--------------------------------------------------------SUBMIT BUTTON-------------------------------------------------\n",
    "\n",
    "submit_btn=Button(text=\"SUBMIT\",padx=10,pady=5,font=\"comicsansms 15 bold\",command=calculate)\n",
    "submit_btn.place(x=720,y=500)\n",
    "\n",
    "#-----------------------------------------------------TKINTER ENDING------------------------------------------------------\n",
    "\n",
    "root.mainloop()"
   ]
  }
 ],
 "metadata": {
  "kernelspec": {
   "display_name": "Python 3 (ipykernel)",
   "language": "python",
   "name": "python3"
  },
  "language_info": {
   "codemirror_mode": {
    "name": "ipython",
    "version": 3
   },
   "file_extension": ".py",
   "mimetype": "text/x-python",
   "name": "python",
   "nbconvert_exporter": "python",
   "pygments_lexer": "ipython3",
   "version": "3.9.5"
  }
 },
 "nbformat": 4,
 "nbformat_minor": 5
}
